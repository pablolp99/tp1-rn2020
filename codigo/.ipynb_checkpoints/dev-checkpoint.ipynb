{
 "cells": [
  {
   "cell_type": "markdown",
   "metadata": {},
   "source": [
    "# TP Redes Neuronales"
   ]
  },
  {
   "cell_type": "code",
   "execution_count": 13,
   "metadata": {},
   "outputs": [],
   "source": [
    "import numpy as np\n",
    "import pandas as pd\n",
    "from sklearn import preprocessing as skl\n",
    "import math\n",
    "from matplotlib import pyplot as plt, cm"
   ]
  },
  {
   "cell_type": "code",
   "execution_count": 51,
   "metadata": {},
   "outputs": [],
   "source": [
    "def tanh(xp, w):\n",
    "    return np.tanh(xp.dot(w))\n",
    "\n",
    "def add_bias(matrix):\n",
    "    bias = -np.ones((len(matrix),1))\n",
    "    return np.concatenate((matrix,bias), axis=1)\n",
    "\n",
    "def sub_bias(matrix):\n",
    "    return matrix[:,:-1]"
   ]
  },
  {
   "cell_type": "code",
   "execution_count": 52,
   "metadata": {},
   "outputs": [],
   "source": [
    "def activation(xh):\n",
    "    # Se puede pasar como parametro para que no rompa la memoria de la computadora\n",
    "    y = [np.zeros((1, S[i]+1))[0] for i in range(L-1)] + [np.zeros((1, S[-1]))[0]]\n",
    "    y_temp = xh\n",
    "    for k in range(1, L):\n",
    "        y[k-1] = add_bias(y_temp)\n",
    "        y_temp = tanh(y[k-1],W[k])\n",
    "    y[-1] = y_temp\n",
    "    return y"
   ]
  },
  {
   "cell_type": "code",
   "execution_count": 53,
   "metadata": {},
   "outputs": [],
   "source": [
    "def correction(y, zh, lr):\n",
    "    dw = [0] + [np.zeros((S[i-1]+1, S[i])) for i in range(L-1)]\n",
    "    e = zh - y[-1]\n",
    "    dy = 1 - y[-1] ** 2\n",
    "    # Mismo concepto que el Y pero para atras\n",
    "    # Mismas dimensiones que Y\n",
    "    d = [np.zeros((1, S[i]+1))[0] for i in range(L-1)] + [np.zeros((1, S[-1]))[0]]\n",
    "    d[-1] = e * dy\n",
    "    for k in range(L-1,0,-1):\n",
    "        dw[k] = lr * (y[k-1].T.dot(d[k]))\n",
    "        e = d[k].dot(W[k].T)\n",
    "        dy = 1 - y[k-1] ** 2\n",
    "        d[k-1] = sub_bias(e * dy)\n",
    "    return dw"
   ]
  },
  {
   "cell_type": "code",
   "execution_count": 54,
   "metadata": {},
   "outputs": [],
   "source": [
    "def adaptation(W, dw):\n",
    "    for k in range(1, L):\n",
    "        W[k] += dw[k]\n",
    "    return W"
   ]
  },
  {
   "cell_type": "code",
   "execution_count": 55,
   "metadata": {},
   "outputs": [],
   "source": [
    "def estimation(zh, yh):\n",
    "    return np.linalg.norm(zh-yh[-1])**2"
   ]
  },
  {
   "cell_type": "code",
   "execution_count": 57,
   "metadata": {},
   "outputs": [],
   "source": [
    "def train(xp, W, z, lr, epsilon, max_epoch):\n",
    "    err = 1\n",
    "    epoch = 1\n",
    "    while err > epsilon and epoch < max_epoch:\n",
    "        err = 0\n",
    "        for h in range(0, len(xp)):\n",
    "            yh = activation(xp[h:h+1])\n",
    "            eh = estimation(z[h:h+1], yh)\n",
    "            dw = correction(yh, z[h:h+1], lr)\n",
    "            W = adaptation(W, dw)\n",
    "            err += np.linalg.norm(eh)\n",
    "        epoch += 1\n",
    "        error.append(err)\n",
    "    return W"
   ]
  },
  {
   "cell_type": "code",
   "execution_count": 58,
   "metadata": {},
   "outputs": [],
   "source": [
    "files = ['tp1_ej1_training.csv','tp1_ej1_training.csv']\n",
    "data_path = \"../data/\""
   ]
  },
  {
   "cell_type": "markdown",
   "metadata": {},
   "source": [
    "---\n",
    "## Ejercicio 1\n",
    "\n",
    "### Diagnóstico de cáncer de mamas.\n",
    "#### Este conjunto de datos contiene los resultados de un examen específico que es utilizado en el diagnóstico de cáncer de mamas. Cada entrada corresponde a los datos obtenidos para distintos pacientes y contiene 10 características provenientes de imágenes digitalizadas de muestras de células. Junto con estas características se encuentra también el diagnóstico final, determinado junto con otras pruebas, en  donde se indica si la muestra analizada pertenecía a un tumor maligno o benigno.  La información de cada una de estas características es obtenida en valores reales a partir de algunos atributos como los que se detallan a continuación:\n",
    "\n",
    "- Diagnóstico (M = maligno, B = benigno)\n",
    "- Radio (media de la distancia desde el centro a los puntos de perímetro)\n",
    "- Textura (desviación estándar de los valores en escala de gris)\n",
    "- Perímetro\n",
    "- Área\n",
    "- Suavidad (variaciones locales en la longitud del radio)\n",
    "- Compacidad (perímetro2/ área - 1)\n",
    "- Concavidad (severidad de las porciones cóncavas del contorno)\n",
    "- Puntos cóncavos (proporción de porciones cóncavas del contorno)\n",
    "- Simetría"
   ]
  },
  {
   "cell_type": "code",
   "execution_count": 124,
   "metadata": {},
   "outputs": [],
   "source": [
    "data = pd.read_csv(data_path+files[0], header=None)"
   ]
  },
  {
   "cell_type": "code",
   "execution_count": 125,
   "metadata": {},
   "outputs": [
    {
     "data": {
      "text/html": [
       "<div>\n",
       "<style scoped>\n",
       "    .dataframe tbody tr th:only-of-type {\n",
       "        vertical-align: middle;\n",
       "    }\n",
       "\n",
       "    .dataframe tbody tr th {\n",
       "        vertical-align: top;\n",
       "    }\n",
       "\n",
       "    .dataframe thead th {\n",
       "        text-align: right;\n",
       "    }\n",
       "</style>\n",
       "<table border=\"1\" class=\"dataframe\">\n",
       "  <thead>\n",
       "    <tr style=\"text-align: right;\">\n",
       "      <th></th>\n",
       "      <th>0</th>\n",
       "      <th>1</th>\n",
       "      <th>2</th>\n",
       "      <th>3</th>\n",
       "      <th>4</th>\n",
       "      <th>5</th>\n",
       "      <th>6</th>\n",
       "      <th>7</th>\n",
       "      <th>8</th>\n",
       "      <th>9</th>\n",
       "      <th>10</th>\n",
       "    </tr>\n",
       "  </thead>\n",
       "  <tbody>\n",
       "    <tr>\n",
       "      <th>0</th>\n",
       "      <td>M</td>\n",
       "      <td>11.779</td>\n",
       "      <td>29.321</td>\n",
       "      <td>93.649</td>\n",
       "      <td>1300.312</td>\n",
       "      <td>2.469</td>\n",
       "      <td>1.071</td>\n",
       "      <td>4.459</td>\n",
       "      <td>6.299</td>\n",
       "      <td>0.586</td>\n",
       "      <td>1.506</td>\n",
       "    </tr>\n",
       "    <tr>\n",
       "      <th>1</th>\n",
       "      <td>B</td>\n",
       "      <td>18.631</td>\n",
       "      <td>16.772</td>\n",
       "      <td>126.232</td>\n",
       "      <td>657.973</td>\n",
       "      <td>1.659</td>\n",
       "      <td>1.230</td>\n",
       "      <td>4.179</td>\n",
       "      <td>5.549</td>\n",
       "      <td>0.678</td>\n",
       "      <td>1.734</td>\n",
       "    </tr>\n",
       "    <tr>\n",
       "      <th>2</th>\n",
       "      <td>B</td>\n",
       "      <td>11.221</td>\n",
       "      <td>29.886</td>\n",
       "      <td>120.610</td>\n",
       "      <td>1302.758</td>\n",
       "      <td>2.519</td>\n",
       "      <td>2.485</td>\n",
       "      <td>5.281</td>\n",
       "      <td>6.633</td>\n",
       "      <td>0.748</td>\n",
       "      <td>1.999</td>\n",
       "    </tr>\n",
       "    <tr>\n",
       "      <th>3</th>\n",
       "      <td>M</td>\n",
       "      <td>14.418</td>\n",
       "      <td>29.200</td>\n",
       "      <td>101.041</td>\n",
       "      <td>1384.419</td>\n",
       "      <td>2.519</td>\n",
       "      <td>1.545</td>\n",
       "      <td>3.802</td>\n",
       "      <td>4.359</td>\n",
       "      <td>0.527</td>\n",
       "      <td>1.778</td>\n",
       "    </tr>\n",
       "    <tr>\n",
       "      <th>4</th>\n",
       "      <td>B</td>\n",
       "      <td>20.089</td>\n",
       "      <td>27.558</td>\n",
       "      <td>99.301</td>\n",
       "      <td>917.233</td>\n",
       "      <td>2.107</td>\n",
       "      <td>1.986</td>\n",
       "      <td>2.447</td>\n",
       "      <td>1.845</td>\n",
       "      <td>0.693</td>\n",
       "      <td>1.499</td>\n",
       "    </tr>\n",
       "  </tbody>\n",
       "</table>\n",
       "</div>"
      ],
      "text/plain": [
       "  0       1       2        3         4      5      6      7      8      9   \\\n",
       "0  M  11.779  29.321   93.649  1300.312  2.469  1.071  4.459  6.299  0.586   \n",
       "1  B  18.631  16.772  126.232   657.973  1.659  1.230  4.179  5.549  0.678   \n",
       "2  B  11.221  29.886  120.610  1302.758  2.519  2.485  5.281  6.633  0.748   \n",
       "3  M  14.418  29.200  101.041  1384.419  2.519  1.545  3.802  4.359  0.527   \n",
       "4  B  20.089  27.558   99.301   917.233  2.107  1.986  2.447  1.845  0.693   \n",
       "\n",
       "      10  \n",
       "0  1.506  \n",
       "1  1.734  \n",
       "2  1.999  \n",
       "3  1.778  \n",
       "4  1.499  "
      ]
     },
     "execution_count": 125,
     "metadata": {},
     "output_type": "execute_result"
    }
   ],
   "source": [
    "data.head()"
   ]
  },
  {
   "cell_type": "markdown",
   "metadata": {},
   "source": [
    "### Pre-processing\n",
    "#### Normalizing values for each column in the range (-1,1)"
   ]
  },
  {
   "cell_type": "code",
   "execution_count": 126,
   "metadata": {},
   "outputs": [],
   "source": [
    "for c in data.columns[1:]:\n",
    "    data[c] = skl.minmax_scale(data[c], feature_range=(-1, 1))"
   ]
  },
  {
   "cell_type": "code",
   "execution_count": 127,
   "metadata": {},
   "outputs": [],
   "source": [
    "data['result'] = data.apply(lambda x: -1 if x[0] == 'M' else 1, axis=1)"
   ]
  },
  {
   "cell_type": "code",
   "execution_count": 128,
   "metadata": {},
   "outputs": [],
   "source": [
    "x = data[list(range(1,11))].to_numpy()\n",
    "z = np.array(data.result.tolist())"
   ]
  },
  {
   "cell_type": "code",
   "execution_count": 180,
   "metadata": {},
   "outputs": [
    {
     "data": {
      "text/plain": [
       "0.04"
      ]
     },
     "execution_count": 180,
     "metadata": {},
     "output_type": "execute_result"
    }
   ],
   "source": [
    "10e-3 * 4"
   ]
  },
  {
   "cell_type": "code",
   "execution_count": 181,
   "metadata": {},
   "outputs": [],
   "source": [
    "learning_rate = 10e-3 * 2\n",
    "epsilon = 0.0001\n",
    "max_epoch = 1000"
   ]
  },
  {
   "cell_type": "code",
   "execution_count": 182,
   "metadata": {},
   "outputs": [],
   "source": [
    "error = []\n",
    "P = len(x) # \n",
    "S = [10,20,1]\n",
    "# S = [10,20,30,40,30,20,10,7,5,3,2,1]\n",
    "L = len(S) # Cantidad de capas\n",
    "W = [0] + [np.random.normal(0, S[0]**(0.5), (S[i-1]+1, S[i])) for i in range(1, L)] # len(W) = L"
   ]
  },
  {
   "cell_type": "code",
   "execution_count": 183,
   "metadata": {},
   "outputs": [],
   "source": [
    "W = train(x, W, z, learning_rate, epsilon, max_epoch)\n",
    "pass"
   ]
  },
  {
   "cell_type": "code",
   "execution_count": 184,
   "metadata": {},
   "outputs": [
    {
     "data": {
      "text/plain": [
       "[<matplotlib.lines.Line2D at 0x7f5c22039b10>]"
      ]
     },
     "execution_count": 184,
     "metadata": {},
     "output_type": "execute_result"
    },
    {
     "data": {
      "image/png": "[encoded data removed]",
      "text/plain": [
       "<Figure size 432x288 with 1 Axes>"
      ]
     },
     "metadata": {
      "needs_background": "light"
     },
     "output_type": "display_data"
    }
   ],
   "source": [
    "plt.plot(error)"
   ]
  },
  {
   "cell_type": "markdown",
   "metadata": {},
   "source": [
    "len(z.tolist())\n",
    "len(activation(x)[-1].reshape(1,P)[0].tolist())"
   ]
  }
 ],
 "metadata": {
  "kernelspec": {
   "display_name": "Python 3",
   "language": "python",
   "name": "python3"
  },
  "language_info": {
   "codemirror_mode": {
    "name": "ipython",
    "version": 3
   },
   "file_extension": ".py",
   "mimetype": "text/x-python",
   "name": "python",
   "nbconvert_exporter": "python",
   "pygments_lexer": "ipython3",
   "version": "3.7.5"
  }
 },
 "nbformat": 4,
 "nbformat_minor": 4
}
